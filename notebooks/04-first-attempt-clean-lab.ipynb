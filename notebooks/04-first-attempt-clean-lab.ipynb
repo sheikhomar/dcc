{
 "cells": [
  {
   "cell_type": "code",
   "execution_count": 1,
   "id": "bc85e71d-76f1-41e2-895b-c4f6fbd51c71",
   "metadata": {},
   "outputs": [],
   "source": [
    "import sys, os\n",
    "sys.path.append(os.path.abspath('../'))"
   ]
  },
  {
   "cell_type": "code",
   "execution_count": 2,
   "id": "e1305c73-6250-4cfc-8855-ac75ce0f7ddf",
   "metadata": {},
   "outputs": [],
   "source": [
    "import cleanlab\n",
    "import numpy as np\n",
    "\n",
    "from sklearn.base import BaseEstimator\n",
    "from sklearn.model_selection import StratifiedKFold\n",
    "\n",
    "from cleanlab.pruning import get_noise_indices\n",
    "\n",
    "from pathlib import Path\n",
    "\n",
    "import numpy as np\n",
    "from numpy import random\n",
    "import tensorflow as tf\n",
    "from sklearn.base import BaseEstimator\n",
    "\n",
    "import cv2\n",
    "\n",
    "from tqdm import tqdm\n",
    "from tensorflow.python.keras.preprocessing import dataset_utils\n",
    "\n",
    "import utils\n",
    "from model import DataCentricClassifier\n",
    "\n",
    "tf.random.set_seed(123)"
   ]
  },
  {
   "cell_type": "code",
   "execution_count": 3,
   "id": "691f0d10-816b-4f51-92b7-721f3480b562",
   "metadata": {},
   "outputs": [
    {
     "name": "stdout",
     "output_type": "stream",
     "text": [
      "Creating ResNet50 model...\n"
     ]
    },
    {
     "name": "stderr",
     "output_type": "stream",
     "text": [
      "/home/omar/.cache/pypoetry/virtualenvs/dcc-8g-IaL7o-py3.8/lib/python3.8/site-packages/tensorflow/python/keras/optimizer_v2/optimizer_v2.py:374: UserWarning: The `lr` argument is deprecated, use `learning_rate` instead.\n",
      "  warnings.warn(\n"
     ]
    },
    {
     "name": "stdout",
     "output_type": "stream",
     "text": [
      "Loading paths from ../experiments/original/data/train\n",
      "Found 2067 files belonging to 10 classes.\n",
      "Loading paths from ../experiments/original/data/val\n",
      "Found 813 files belonging to 10 classes.\n",
      "Loading paths from ../experiments/original/data/test\n",
      "Found 52 files belonging to 10 classes.\n",
      "Loading weights from ../experiments/original/checkpoints/best_model\n"
     ]
    }
   ],
   "source": [
    "classifier = DataCentricClassifier(\n",
    "    experiment_dir=\"../experiments/original/\", \n",
    "    batch_size=8,\n",
    "    random_seed=123,\n",
    "    epoch=1\n",
    ")\n",
    "classifier.load_weights()"
   ]
  },
  {
   "cell_type": "code",
   "execution_count": 4,
   "id": "f713d204-c060-411d-a2d1-5dafa786503e",
   "metadata": {},
   "outputs": [],
   "source": [
    "train_paths, train_labels = classifier.get_dataset_paths_and_labels(\"train\")"
   ]
  },
  {
   "cell_type": "code",
   "execution_count": 5,
   "id": "8a62ef6f-07e7-48bf-a0b0-cfe080403cbe",
   "metadata": {},
   "outputs": [],
   "source": [
    "train_size = len(train_paths)"
   ]
  },
  {
   "cell_type": "code",
   "execution_count": 6,
   "id": "d41f46f3-3cf1-454a-a216-15b2dbc151be",
   "metadata": {},
   "outputs": [],
   "source": [
    "X_train = np.arange(train_size)\n",
    "y_train = train_labels"
   ]
  },
  {
   "cell_type": "code",
   "execution_count": 7,
   "id": "d0a53ac6-2680-446e-bd88-5ffb1f6802fe",
   "metadata": {},
   "outputs": [
    {
     "name": "stdout",
     "output_type": "stream",
     "text": [
      "Filtered dataset size: 2067\n",
      "Before shuffling: \n",
      "['../experiments/original/data/train/iii/b042daf0-ce5d-11eb-b317-38f9d35ea60f.png',\n",
      " '../experiments/original/data/train/ii/ab480bce-ce5d-11eb-b317-38f9d35ea60f.png',\n",
      " '../experiments/original/data/train/ix/aea96f9c-ce5d-11eb-b317-38f9d35ea60f.png',\n",
      " '../experiments/original/data/train/iii/b075323e-ce5d-11eb-b317-38f9d35ea60f.png',\n",
      " '../experiments/original/data/train/i/ac559310-ce5d-11eb-b317-38f9d35ea60f.png']\n",
      "[2, 1, 8, 2, 0]\n",
      "After shuffling: \n",
      "['../experiments/original/data/train/vi/aaf25f62-ce5d-11eb-b317-38f9d35ea60f.png',\n",
      " '../experiments/original/data/train/i/abf4867e-ce5d-11eb-b317-38f9d35ea60f.png',\n",
      " '../experiments/original/data/train/i/ac379130-ce5d-11eb-b317-38f9d35ea60f.png',\n",
      " '../experiments/original/data/train/i/abb3aeb0-ce5d-11eb-b317-38f9d35ea60f.png',\n",
      " '../experiments/original/data/train/ix/aef8934c-ce5d-11eb-b317-38f9d35ea60f.png']\n",
      "[5, 0, 0, 0, 8]\n",
      "259/259 [==============================] - 7s 24ms/step - loss: 0.2499 - accuracy: 0.9342\n"
     ]
    }
   ],
   "source": [
    "classifier.fit(X_train, y_train)"
   ]
  },
  {
   "cell_type": "code",
   "execution_count": 8,
   "id": "763d3f8b-4899-4d13-831f-3a7356d9cbe7",
   "metadata": {},
   "outputs": [],
   "source": [
    "def estimate_confident_joint_and_cv_pred_proba(\n",
    "        X,\n",
    "        s,\n",
    "        clf,\n",
    "        cv_n_folds=5,\n",
    "        thresholds=None,\n",
    "        seed=None,\n",
    "        calibrate=True,\n",
    "):\n",
    "    cleanlab.latent_estimation.assert_inputs_are_valid(X, s)\n",
    "    # Number of classes\n",
    "    K = len(np.unique(s))\n",
    "\n",
    "    # Ensure labels are of type np.array()\n",
    "    s = np.asarray(s)\n",
    "\n",
    "    # Create cross-validation object for out-of-sample predicted probabilities.\n",
    "    # CV folds preserve the fraction of noisy positive and\n",
    "    # noisy negative examples in each class.\n",
    "    kf = StratifiedKFold(n_splits=cv_n_folds, shuffle=True, random_state=seed)\n",
    "\n",
    "    # Intialize psx array\n",
    "    psx = np.zeros((len(s), K))\n",
    "\n",
    "    # Split X and s into \"cv_n_folds\" stratified folds.\n",
    "    for k, (cv_train_idx, cv_holdout_idx) in enumerate(kf.split(X, s)):\n",
    "        clf.load_weights()\n",
    "\n",
    "        # Select the training and holdout cross-validated sets.\n",
    "        X_train_cv, X_holdout_cv = X[cv_train_idx], X[cv_holdout_idx]\n",
    "        s_train_cv, s_holdout_cv = s[cv_train_idx], s[cv_holdout_idx]\n",
    "\n",
    "        # Fit the clf classifier to the training set and\n",
    "        # predict on the holdout set and update psx.\n",
    "        clf.fit(X_train_cv, s_train_cv)\n",
    "        psx_cv = clf.predict_proba(X_holdout_cv, loader='train')  # P(s = k|x) # [:,1]\n",
    "        psx[cv_holdout_idx] = psx_cv\n",
    "\n",
    "    # Compute the confident counts, a K x K matrix for all pairs of labels.\n",
    "    confident_joint = cleanlab.latent_estimation.compute_confident_joint(\n",
    "        s=s,\n",
    "        psx=psx,  # P(s = k|x)\n",
    "        thresholds=thresholds,\n",
    "        calibrate=calibrate,\n",
    "    )\n",
    "\n",
    "    return confident_joint, psx"
   ]
  },
  {
   "cell_type": "code",
   "execution_count": 9,
   "id": "f29a31eb-eabf-4c67-8b22-cc95678aacfc",
   "metadata": {},
   "outputs": [
    {
     "name": "stdout",
     "output_type": "stream",
     "text": [
      "Loading weights from ../experiments/original/checkpoints/best_model\n",
      "Filtered dataset size: 1653\n",
      "Before shuffling: \n",
      "['../experiments/original/data/train/iii/b042daf0-ce5d-11eb-b317-38f9d35ea60f.png',\n",
      " '../experiments/original/data/train/ii/ab480bce-ce5d-11eb-b317-38f9d35ea60f.png',\n",
      " '../experiments/original/data/train/ix/aea96f9c-ce5d-11eb-b317-38f9d35ea60f.png',\n",
      " '../experiments/original/data/train/i/ac559310-ce5d-11eb-b317-38f9d35ea60f.png',\n",
      " '../experiments/original/data/train/iii/b0735928-ce5d-11eb-b317-38f9d35ea60f.png']\n",
      "[2, 1, 8, 0, 2]\n",
      "After shuffling: \n",
      "['../experiments/original/data/train/v/af31121c-ce5d-11eb-b317-38f9d35ea60f.png',\n",
      " '../experiments/original/data/train/iv/ae6dfac0-ce5d-11eb-b317-38f9d35ea60f.png',\n",
      " '../experiments/original/data/train/i/ac49a5be-ce5d-11eb-b317-38f9d35ea60f.png',\n",
      " '../experiments/original/data/train/iv/ae40e724-ce5d-11eb-b317-38f9d35ea60f.png',\n",
      " '../experiments/original/data/train/i/ac30e38a-ce5d-11eb-b317-38f9d35ea60f.png']\n",
      "[4, 3, 0, 3, 0]\n",
      "207/207 [==============================] - 5s 23ms/step - loss: 0.2549 - accuracy: 0.9425\n",
      "Generating predictions on train\n",
      "Filtered dataset size: 414\n"
     ]
    },
    {
     "name": "stderr",
     "output_type": "stream",
     "text": [
      "100%|██████████| 414/414 [00:13<00:00, 30.02it/s]\n"
     ]
    },
    {
     "name": "stdout",
     "output_type": "stream",
     "text": [
      "Loading weights from ../experiments/original/checkpoints/best_model\n",
      "Filtered dataset size: 1653\n",
      "Before shuffling: \n",
      "['../experiments/original/data/train/iii/b042daf0-ce5d-11eb-b317-38f9d35ea60f.png',\n",
      " '../experiments/original/data/train/ii/ab480bce-ce5d-11eb-b317-38f9d35ea60f.png',\n",
      " '../experiments/original/data/train/iii/b075323e-ce5d-11eb-b317-38f9d35ea60f.png',\n",
      " '../experiments/original/data/train/iii/b0735928-ce5d-11eb-b317-38f9d35ea60f.png',\n",
      " '../experiments/original/data/train/ix/aede8826-ce5d-11eb-b317-38f9d35ea60f.png']\n",
      "[2, 1, 2, 2, 8]\n",
      "After shuffling: \n",
      "['../experiments/original/data/train/iii/b0e38860-ce5d-11eb-b317-38f9d35ea60f.png',\n",
      " '../experiments/original/data/train/iv/ae547924-ce5d-11eb-b317-38f9d35ea60f.png',\n",
      " '../experiments/original/data/train/iv/ae1251f2-ce5d-11eb-b317-38f9d35ea60f.png',\n",
      " '../experiments/original/data/train/viii/ad0d5cca-ce5d-11eb-b317-38f9d35ea60f.png',\n",
      " '../experiments/original/data/train/iv/ae5981f8-ce5d-11eb-b317-38f9d35ea60f.png']\n",
      "[2, 3, 3, 7, 3]\n",
      "207/207 [==============================] - 5s 22ms/step - loss: 0.2039 - accuracy: 0.9558\n",
      "Generating predictions on train\n",
      "Filtered dataset size: 414\n"
     ]
    },
    {
     "name": "stderr",
     "output_type": "stream",
     "text": [
      "100%|██████████| 414/414 [00:15<00:00, 27.05it/s]\n"
     ]
    },
    {
     "name": "stdout",
     "output_type": "stream",
     "text": [
      "Loading weights from ../experiments/original/checkpoints/best_model\n",
      "Filtered dataset size: 1654\n",
      "Before shuffling: \n",
      "['../experiments/original/data/train/iii/b042daf0-ce5d-11eb-b317-38f9d35ea60f.png',\n",
      " '../experiments/original/data/train/ii/ab480bce-ce5d-11eb-b317-38f9d35ea60f.png',\n",
      " '../experiments/original/data/train/ix/aea96f9c-ce5d-11eb-b317-38f9d35ea60f.png',\n",
      " '../experiments/original/data/train/iii/b075323e-ce5d-11eb-b317-38f9d35ea60f.png',\n",
      " '../experiments/original/data/train/i/ac559310-ce5d-11eb-b317-38f9d35ea60f.png']\n",
      "[2, 1, 8, 2, 0]\n",
      "After shuffling: \n",
      "['../experiments/original/data/train/ix/aea20d10-ce5d-11eb-b317-38f9d35ea60f.png',\n",
      " '../experiments/original/data/train/ix/aeb10b8a-ce5d-11eb-b317-38f9d35ea60f.png',\n",
      " '../experiments/original/data/train/vi/ab0cea1c-ce5d-11eb-b317-38f9d35ea60f.png',\n",
      " '../experiments/original/data/train/vii/ac7a35c6-ce5d-11eb-b317-38f9d35ea60f.png',\n",
      " '../experiments/original/data/train/viii/ad77dad2-ce5d-11eb-b317-38f9d35ea60f.png']\n",
      "[8, 8, 5, 6, 7]\n",
      "207/207 [==============================] - 5s 25ms/step - loss: 0.2439 - accuracy: 0.9414\n",
      "Generating predictions on train\n",
      "Filtered dataset size: 413\n"
     ]
    },
    {
     "name": "stderr",
     "output_type": "stream",
     "text": [
      "100%|██████████| 413/413 [00:15<00:00, 26.74it/s]\n"
     ]
    },
    {
     "name": "stdout",
     "output_type": "stream",
     "text": [
      "Loading weights from ../experiments/original/checkpoints/best_model\n",
      "Filtered dataset size: 1654\n",
      "Before shuffling: \n",
      "['../experiments/original/data/train/ix/aea96f9c-ce5d-11eb-b317-38f9d35ea60f.png',\n",
      " '../experiments/original/data/train/iii/b075323e-ce5d-11eb-b317-38f9d35ea60f.png',\n",
      " '../experiments/original/data/train/i/ac559310-ce5d-11eb-b317-38f9d35ea60f.png',\n",
      " '../experiments/original/data/train/iii/b0735928-ce5d-11eb-b317-38f9d35ea60f.png',\n",
      " '../experiments/original/data/train/x/b01f03fa-ce5d-11eb-b317-38f9d35ea60f.png']\n",
      "[8, 2, 0, 2, 9]\n",
      "After shuffling: \n",
      "['../experiments/original/data/train/viii/ad7613f0-ce5d-11eb-b317-38f9d35ea60f.png',\n",
      " '../experiments/original/data/train/x/b01bf9f8-ce5d-11eb-b317-38f9d35ea60f.png',\n",
      " '../experiments/original/data/train/i/abce0760-ce5d-11eb-b317-38f9d35ea60f.png',\n",
      " '../experiments/original/data/train/iii/b05ca9c6-ce5d-11eb-b317-38f9d35ea60f.png',\n",
      " '../experiments/original/data/train/vii/ac993098-ce5d-11eb-b317-38f9d35ea60f.png']\n",
      "[7, 9, 0, 2, 6]\n",
      "207/207 [==============================] - 4s 21ms/step - loss: 0.2528 - accuracy: 0.9311\n",
      "Generating predictions on train\n",
      "Filtered dataset size: 413\n"
     ]
    },
    {
     "name": "stderr",
     "output_type": "stream",
     "text": [
      "100%|██████████| 413/413 [00:12<00:00, 32.37it/s]\n"
     ]
    },
    {
     "name": "stdout",
     "output_type": "stream",
     "text": [
      "Loading weights from ../experiments/original/checkpoints/best_model\n",
      "Filtered dataset size: 1654\n",
      "Before shuffling: \n",
      "['../experiments/original/data/train/iii/b042daf0-ce5d-11eb-b317-38f9d35ea60f.png',\n",
      " '../experiments/original/data/train/ii/ab480bce-ce5d-11eb-b317-38f9d35ea60f.png',\n",
      " '../experiments/original/data/train/ix/aea96f9c-ce5d-11eb-b317-38f9d35ea60f.png',\n",
      " '../experiments/original/data/train/iii/b075323e-ce5d-11eb-b317-38f9d35ea60f.png',\n",
      " '../experiments/original/data/train/i/ac559310-ce5d-11eb-b317-38f9d35ea60f.png']\n",
      "[2, 1, 8, 2, 0]\n",
      "After shuffling: \n",
      "['../experiments/original/data/train/iv/ae0f025e-ce5d-11eb-b317-38f9d35ea60f.png',\n",
      " '../experiments/original/data/train/iii/b06d0c12-ce5d-11eb-b317-38f9d35ea60f.png',\n",
      " '../experiments/original/data/train/vii/ac7cda7e-ce5d-11eb-b317-38f9d35ea60f.png',\n",
      " '../experiments/original/data/train/iv/ae3023f8-ce5d-11eb-b317-38f9d35ea60f.png',\n",
      " '../experiments/original/data/train/iv/ae8b5cdc-ce5d-11eb-b317-38f9d35ea60f.png']\n",
      "[3, 2, 6, 3, 3]\n",
      "207/207 [==============================] - 5s 24ms/step - loss: 0.2154 - accuracy: 0.9559\n",
      "Generating predictions on train\n",
      "Filtered dataset size: 413\n"
     ]
    },
    {
     "name": "stderr",
     "output_type": "stream",
     "text": [
      "100%|██████████| 413/413 [00:15<00:00, 26.12it/s]\n"
     ]
    }
   ],
   "source": [
    "cj, psx = estimate_confident_joint_and_cv_pred_proba(X_train, y_train, clf=classifier)"
   ]
  },
  {
   "cell_type": "code",
   "execution_count": 10,
   "id": "91082952-9be6-4f38-8744-f156e1a4b421",
   "metadata": {},
   "outputs": [
    {
     "data": {
      "text/plain": [
       "(array([[250,   0,   8,   0,   0,   0,   0,   0,   0,   3],\n",
       "        [  0, 157,   0,   0,   0,   0,   0,   0,   0,   0],\n",
       "        [  0,   0, 185,   0,   0,   0,   1,   0,   0,   0],\n",
       "        [  0,   0,   0, 281,   0,   0,   0,   0,   0,   0],\n",
       "        [  0,   0,   0,   0, 196,   0,   0,   0,   0,   0],\n",
       "        [  0,   0,   0,   0,   0, 179,   0,   0,   0,   2],\n",
       "        [  0,   0,   0,   0,   0,   0, 193,   0,   0,   0],\n",
       "        [  0,   0,   0,   0,   0,   0,   1, 198,   0,   0],\n",
       "        [  0,   0,   0,   0,   0,   0,   0,   0, 233,   1],\n",
       "        [  0,   0,   0,   0,   0,   0,   0,   0,   0, 179]]),\n",
       " array([[6.42085671e-02, 2.66878866e-03, 8.97208035e-01, ...,\n",
       "         1.74721936e-04, 4.66833031e-03, 2.63664629e-02],\n",
       "        [2.66794749e-02, 9.50848311e-02, 4.74436916e-02, ...,\n",
       "         2.47119577e-03, 2.39000469e-03, 8.02319407e-01],\n",
       "        [1.24065792e-07, 5.35884874e-06, 7.64636279e-05, ...,\n",
       "         1.38415089e-05, 9.99685466e-01, 5.49185024e-05],\n",
       "        ...,\n",
       "        [1.22164050e-11, 3.31030481e-10, 5.35200466e-04, ...,\n",
       "         9.97950912e-01, 2.62064623e-06, 1.20025561e-06],\n",
       "        [7.70461520e-06, 2.21391980e-04, 2.93087160e-05, ...,\n",
       "         3.50265647e-03, 2.31775921e-02, 2.44914982e-02],\n",
       "        [3.61492903e-06, 7.79633920e-05, 1.84603559e-05, ...,\n",
       "         2.32484611e-03, 2.76185921e-03, 5.79576648e-04]]))"
      ]
     },
     "execution_count": 10,
     "metadata": {},
     "output_type": "execute_result"
    }
   ],
   "source": [
    "cj, psx"
   ]
  },
  {
   "cell_type": "code",
   "execution_count": 11,
   "id": "03bdf55b-c1be-4214-8c45-d5b7967e0463",
   "metadata": {},
   "outputs": [
    {
     "data": {
      "text/plain": [
       "(2067, 10)"
      ]
     },
     "execution_count": 11,
     "metadata": {},
     "output_type": "execute_result"
    }
   ],
   "source": [
    "psx.shape"
   ]
  },
  {
   "cell_type": "code",
   "execution_count": 12,
   "id": "879bd718-8fda-4a51-bc6d-380f68463f96",
   "metadata": {},
   "outputs": [
    {
     "data": {
      "text/plain": [
       "array([0.06, 0.  , 0.9 , 0.  , 0.  , 0.  , 0.  , 0.  , 0.  , 0.03])"
      ]
     },
     "execution_count": 12,
     "metadata": {},
     "output_type": "execute_result"
    }
   ],
   "source": [
    "psx[0].round(2)"
   ]
  },
  {
   "cell_type": "code",
   "execution_count": null,
   "id": "3c7e9dca-906e-4252-bb42-20835ceeb1f6",
   "metadata": {},
   "outputs": [],
   "source": []
  }
 ],
 "metadata": {
  "kernelspec": {
   "display_name": "Python 3",
   "language": "python",
   "name": "python3"
  },
  "language_info": {
   "codemirror_mode": {
    "name": "ipython",
    "version": 3
   },
   "file_extension": ".py",
   "mimetype": "text/x-python",
   "name": "python",
   "nbconvert_exporter": "python",
   "pygments_lexer": "ipython3",
   "version": "3.8.8"
  }
 },
 "nbformat": 4,
 "nbformat_minor": 5
}
