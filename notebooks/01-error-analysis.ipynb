{
 "cells": [
  {
   "cell_type": "code",
   "execution_count": 1,
   "id": "cf959ae8-7b8a-4af1-a2b9-533413e7d78e",
   "metadata": {},
   "outputs": [],
   "source": [
    "import re\n",
    "\n",
    "import numpy as np\n",
    "import tensorflow as tf"
   ]
  },
  {
   "cell_type": "code",
   "execution_count": 2,
   "id": "6445b0be-3759-43e3-8371-1c30b5bdb55d",
   "metadata": {},
   "outputs": [],
   "source": [
    "classes = [\"i\", \"ii\", \"iii\", \"iv\", \"v\", \"vi\", \"vii\", \"viii\", \"ix\", \"x\"]"
   ]
  },
  {
   "cell_type": "code",
   "execution_count": 3,
   "id": "b1c18a60-22b1-47c3-aae4-7ad5958260f2",
   "metadata": {},
   "outputs": [],
   "source": [
    "loaded_file = np.load(\"../predictions/preds.npz\")\n",
    "y_proba = loaded_file[\"y_proba\"]\n",
    "y_preds = y_proba.argmax(axis=1)"
   ]
  },
  {
   "cell_type": "code",
   "execution_count": 4,
   "id": "e112c08b-a2af-47b5-831f-d1e4cd1898a5",
   "metadata": {},
   "outputs": [],
   "source": [
    "with open(\"../predictions/preds.npz-file-paths.txt\", \"r\") as fp:\n",
    "    preds_file_paths = fp.readlines()\n",
    "\n",
    "re_pattern = r\"data/val/([^\\/]+)\"\n",
    "actual_labels = [re.findall(re_pattern, i)[0] for i in preds_file_paths]\n",
    "y_actual = np.array([classes.index(l) for l in actual_labels])"
   ]
  },
  {
   "cell_type": "code",
   "execution_count": 5,
   "id": "b454ba85-8ee0-4a67-89bd-4bc21a361077",
   "metadata": {},
   "outputs": [
    {
     "data": {
      "text/plain": [
       "(813,)"
      ]
     },
     "execution_count": 5,
     "metadata": {},
     "output_type": "execute_result"
    }
   ],
   "source": [
    "y_actual.shape"
   ]
  },
  {
   "cell_type": "code",
   "execution_count": 6,
   "id": "98e2578d-0f1f-47c6-b196-1186c1252f53",
   "metadata": {},
   "outputs": [
    {
     "data": {
      "text/plain": [
       "(813,)"
      ]
     },
     "execution_count": 6,
     "metadata": {},
     "output_type": "execute_result"
    }
   ],
   "source": [
    "y_preds.shape"
   ]
  }
 ],
 "metadata": {
  "kernelspec": {
   "display_name": "Python 3",
   "language": "python",
   "name": "python3"
  },
  "language_info": {
   "codemirror_mode": {
    "name": "ipython",
    "version": 3
   },
   "file_extension": ".py",
   "mimetype": "text/x-python",
   "name": "python",
   "nbconvert_exporter": "python",
   "pygments_lexer": "ipython3",
   "version": "3.8.8"
  }
 },
 "nbformat": 4,
 "nbformat_minor": 5
}
