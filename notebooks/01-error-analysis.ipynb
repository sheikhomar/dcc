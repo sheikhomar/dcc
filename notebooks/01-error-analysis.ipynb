{
 "cells": [
  {
   "cell_type": "code",
   "execution_count": 1,
   "id": "cf959ae8-7b8a-4af1-a2b9-533413e7d78e",
   "metadata": {},
   "outputs": [],
   "source": [
    "import re\n",
    "\n",
    "import numpy as np\n",
    "import tensorflow as tf"
   ]
  },
  {
   "cell_type": "code",
   "execution_count": 2,
   "id": "6445b0be-3759-43e3-8371-1c30b5bdb55d",
   "metadata": {},
   "outputs": [],
   "source": [
    "classes = [\"i\", \"ii\", \"iii\", \"iv\", \"v\", \"vi\", \"vii\", \"viii\", \"ix\", \"x\"]"
   ]
  },
  {
   "cell_type": "code",
   "execution_count": 3,
   "id": "b1c18a60-22b1-47c3-aae4-7ad5958260f2",
   "metadata": {},
   "outputs": [],
   "source": [
    "loaded_file = np.load(\"../predictions/original-val.npz\")\n",
    "output = loaded_file[\"output\"]\n",
    "y_actual = np.array(output[:,0], dtype=int)\n",
    "y_pred = np.array(output[:,1], dtype=int)\n",
    "y_proba = output[:,2:]"
   ]
  },
  {
   "cell_type": "code",
   "execution_count": 4,
   "id": "b4e47300-88c8-478d-9223-02d19d816f18",
   "metadata": {},
   "outputs": [
    {
     "data": {
      "text/plain": [
       "array([[0.991, 0.002, 0.000, ..., 0.000, 0.001, 0.002],\n",
       "       [0.539, 0.036, 0.115, ..., 0.004, 0.128, 0.059],\n",
       "       [0.852, 0.075, 0.009, ..., 0.000, 0.001, 0.009],\n",
       "       ...,\n",
       "       [0.022, 0.060, 0.051, ..., 0.006, 0.030, 0.818],\n",
       "       [0.056, 0.025, 0.007, ..., 0.001, 0.307, 0.536],\n",
       "       [0.001, 0.000, 0.000, ..., 0.000, 0.006, 0.974]])"
      ]
     },
     "execution_count": 4,
     "metadata": {},
     "output_type": "execute_result"
    }
   ],
   "source": [
    "np.set_printoptions(formatter={'float_kind':\"{:.3f}\".format})\n",
    "y_proba"
   ]
  },
  {
   "cell_type": "code",
   "execution_count": 5,
   "id": "f8a24b85-3ac2-4fc1-b53a-b2bb9cb78409",
   "metadata": {},
   "outputs": [
    {
     "data": {
      "text/plain": [
       "0.6740467404674046"
      ]
     },
     "execution_count": 5,
     "metadata": {},
     "output_type": "execute_result"
    }
   ],
   "source": [
    "accuracy = (y_actual == y_pred).sum() / len(y_actual)\n",
    "accuracy"
   ]
  }
 ],
 "metadata": {
  "kernelspec": {
   "display_name": "Python 3",
   "language": "python",
   "name": "python3"
  },
  "language_info": {
   "codemirror_mode": {
    "name": "ipython",
    "version": 3
   },
   "file_extension": ".py",
   "mimetype": "text/x-python",
   "name": "python",
   "nbconvert_exporter": "python",
   "pygments_lexer": "ipython3",
   "version": "3.8.8"
  }
 },
 "nbformat": 4,
 "nbformat_minor": 5
}
