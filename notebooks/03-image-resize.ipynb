{
 "cells": [
  {
   "cell_type": "code",
   "execution_count": 1,
   "id": "f87dfc41-32c6-4152-b0f4-619ad1eb8894",
   "metadata": {},
   "outputs": [],
   "source": [
    "import tensorflow as tf\n",
    "import numpy as np\n",
    "import cv2\n",
    "\n",
    "from tensorflow.python.keras.preprocessing import dataset_utils"
   ]
  },
  {
   "cell_type": "code",
   "execution_count": 2,
   "id": "2e548fc1-12b4-4e1e-bb33-e76a0c337301",
   "metadata": {},
   "outputs": [],
   "source": [
    "dataset_path = \"../label_book\""
   ]
  },
  {
   "cell_type": "code",
   "execution_count": 3,
   "id": "3617983c-51ed-4242-afe2-7c6b9d4af054",
   "metadata": {},
   "outputs": [
    {
     "name": "stdout",
     "output_type": "stream",
     "text": [
      "Found 52 files belonging to 10 classes.\n"
     ]
    }
   ],
   "source": [
    "class_names = [\"i\", \"ii\", \"iii\", \"iv\", \"v\", \"vi\", \"vii\", \"viii\", \"ix\", \"x\"]\n",
    "image_paths, image_labels, _ = dataset_utils.index_directory(\n",
    "    directory=dataset_path,\n",
    "    labels=\"inferred\",\n",
    "    formats=('.bmp', '.gif', '.jpeg', '.jpg', '.png'),\n",
    "    class_names=class_names,\n",
    "    shuffle=False,\n",
    "    seed=123,\n",
    "    follow_links=False\n",
    ")"
   ]
  },
  {
   "cell_type": "code",
   "execution_count": 4,
   "id": "8ba3e1ab-edef-456f-9a4b-6b45d4f5600b",
   "metadata": {},
   "outputs": [
    {
     "name": "stdout",
     "output_type": "stream",
     "text": [
      "Found 52 files belonging to 10 classes.\n"
     ]
    }
   ],
   "source": [
    "dataset: tf.data.Dataset = tf.keras.preprocessing.image_dataset_from_directory(\n",
    "    dataset_path,\n",
    "    labels=\"inferred\",\n",
    "    label_mode=\"categorical\",\n",
    "    class_names=class_names,\n",
    "    shuffle=False,\n",
    "    seed=123,\n",
    "    batch_size=1,\n",
    "    image_size=(32, 32),\n",
    ")"
   ]
  },
  {
   "cell_type": "code",
   "execution_count": 5,
   "id": "bffa6ff9-f11d-42d9-b8b4-526b8bf16e93",
   "metadata": {},
   "outputs": [],
   "source": [
    "for i, item in enumerate(dataset.as_numpy_iterator()):\n",
    "    x, y = item\n",
    "    break"
   ]
  },
  {
   "cell_type": "code",
   "execution_count": 6,
   "id": "6a2d370c-4e90-461c-8b5e-21215616ed14",
   "metadata": {},
   "outputs": [
    {
     "data": {
      "text/plain": [
       "(1, 32, 32, 3)"
      ]
     },
     "execution_count": 6,
     "metadata": {},
     "output_type": "execute_result"
    }
   ],
   "source": [
    "x.shape"
   ]
  },
  {
   "cell_type": "code",
   "execution_count": 7,
   "id": "56e287f0-d657-409a-b990-7016fcd960e0",
   "metadata": {},
   "outputs": [],
   "source": [
    "img1 = cv2.imread(image_paths[0])\n",
    "img1 = np.expand_dims(img1, axis=0)"
   ]
  },
  {
   "cell_type": "code",
   "execution_count": 8,
   "id": "6ca99ead-588b-47ff-9f2f-3da90e1096fc",
   "metadata": {},
   "outputs": [
    {
     "data": {
      "text/plain": [
       "(1, 313, 247, 3)"
      ]
     },
     "execution_count": 8,
     "metadata": {},
     "output_type": "execute_result"
    }
   ],
   "source": [
    "img1.shape"
   ]
  },
  {
   "cell_type": "code",
   "execution_count": 9,
   "id": "6ccb0498-3f15-4c92-863f-5cc2f0e2926a",
   "metadata": {},
   "outputs": [
    {
     "data": {
      "text/plain": [
       "(1, 32, 32, 3)"
      ]
     },
     "execution_count": 9,
     "metadata": {},
     "output_type": "execute_result"
    }
   ],
   "source": [
    "x_manual = tf.image.resize(img1, size=(32, 32)).numpy()\n",
    "x_manual.shape"
   ]
  },
  {
   "cell_type": "code",
   "execution_count": 10,
   "id": "79e7c638-646f-4276-aefc-f0add52382d2",
   "metadata": {},
   "outputs": [
    {
     "data": {
      "text/plain": [
       "True"
      ]
     },
     "execution_count": 10,
     "metadata": {},
     "output_type": "execute_result"
    }
   ],
   "source": [
    "np.allclose(x, x_manual)"
   ]
  },
  {
   "cell_type": "code",
   "execution_count": null,
   "id": "90ced3f3-5bd3-48de-93e6-4cb1afb81355",
   "metadata": {},
   "outputs": [],
   "source": []
  }
 ],
 "metadata": {
  "kernelspec": {
   "display_name": "Python 3",
   "language": "python",
   "name": "python3"
  },
  "language_info": {
   "codemirror_mode": {
    "name": "ipython",
    "version": 3
   },
   "file_extension": ".py",
   "mimetype": "text/x-python",
   "name": "python",
   "nbconvert_exporter": "python",
   "pygments_lexer": "ipython3",
   "version": "3.8.8"
  }
 },
 "nbformat": 4,
 "nbformat_minor": 5
}
